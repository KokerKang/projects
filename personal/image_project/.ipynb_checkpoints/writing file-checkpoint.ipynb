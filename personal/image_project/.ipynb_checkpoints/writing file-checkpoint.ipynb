{
 "cells": [
  {
   "cell_type": "code",
   "execution_count": 1,
   "metadata": {},
   "outputs": [
    {
     "name": "stdout",
     "output_type": "stream",
     "text": [
      "======[The result of reading file]======\n",
      "hello\n"
     ]
    }
   ],
   "source": [
    "\"\"\"\n",
    "    writing file\n",
    "\"\"\"\n",
    "\n",
    "# 파일 안 쓰고 싶은 내용을 변수에 넣기\n",
    "data = \"hello\"\n",
    "\n",
    "# test.txt를 w(write) 쓰기 모드로 열고, 파일 디스크립터를 fp 변수에 담고, \n",
    "with open(\"test.txt\", \"w\") as fp:\n",
    "    # data 값을 쓰기 위해, write 함수를 호출\n",
    "    fp.write(data)\n",
    "\n",
    "# reading file\n",
    "with open(\"test.txt\", \"r\") as fp:\n",
    "    print(\"======[The result of reading file]======\")\n",
    "    print(fp.read())\n"
   ]
  },
  {
   "cell_type": "code",
   "execution_count": null,
   "metadata": {},
   "outputs": [],
   "source": []
  }
 ],
 "metadata": {
  "kernelspec": {
   "display_name": "Python 3",
   "language": "python",
   "name": "python3"
  },
  "language_info": {
   "codemirror_mode": {
    "name": "ipython",
    "version": 3
   },
   "file_extension": ".py",
   "mimetype": "text/x-python",
   "name": "python",
   "nbconvert_exporter": "python",
   "pygments_lexer": "ipython3",
   "version": "3.8.5"
  }
 },
 "nbformat": 4,
 "nbformat_minor": 4
}
