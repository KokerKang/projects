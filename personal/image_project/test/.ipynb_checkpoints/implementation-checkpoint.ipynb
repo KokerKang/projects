{
 "cells": [
  {
   "cell_type": "code",
   "execution_count": 2,
   "metadata": {},
   "outputs": [
    {
     "ename": "IndentationError",
     "evalue": "expected an indented block (<ipython-input-2-1ea6566db367>, line 10)",
     "output_type": "error",
     "traceback": [
      "\u001b[0;36m  File \u001b[0;32m\"<ipython-input-2-1ea6566db367>\"\u001b[0;36m, line \u001b[0;32m10\u001b[0m\n\u001b[0;31m    with open(file_name, \"wb\") as fp:\u001b[0m\n\u001b[0m    ^\u001b[0m\n\u001b[0;31mIndentationError\u001b[0m\u001b[0;31m:\u001b[0m expected an indented block\n"
     ]
    }
   ],
   "source": [
    "import requests\n",
    "import json\n",
    "\n",
    "#이미지 파일 저장 function\n",
    "\n",
    "def save_image(image_url, file_name):\n",
    "    img_response = requests.get(image_url)\n",
    "    \n",
    "    if img_response.status_code == 200:    \n",
    "        with open(file_name, \"wb\") as fp:\n",
    "            fp.write(img_response.content)\n",
    "\n",
    "#이미지 검색\n",
    "url = \"https://dapi.kakao.com/v2/search/image\"\n",
    "headers = {\"Authorization\" : \"KakaoAK a95f015df1177dc4f1bd06f1136400d6\"}\n",
    "\n",
    "data = {\"query\" : \"펭수\"}\n",
    "\n",
    "#이미지 검색요청\n",
    "\n",
    "response = requests.post(url, headers=headers, data= data)\n",
    "\n",
    "# requests fail\n",
    "if response.status_code != 200:\n",
    "    print(\"error! because\", response.json())\n",
    "else:\n",
    "    count = 0\n",
    "    for image_info in response.json()['documents']:\n",
    "        print(f\"[{count}th] image_url) = \", image_info['image_url'])\n",
    "        #저장될 이미지 파일명 설정\n",
    "        file_name = \"test_%d.jpg\" %(count)\n",
    "        count = count + 1\n",
    "        #save_image(image_info['image_url'], file_name)"
   ]
  }
 ],
 "metadata": {
  "kernelspec": {
   "display_name": "Python 3",
   "language": "python",
   "name": "python3"
  },
  "language_info": {
   "codemirror_mode": {
    "name": "ipython",
    "version": 3
   },
   "file_extension": ".py",
   "mimetype": "text/x-python",
   "name": "python",
   "nbconvert_exporter": "python",
   "pygments_lexer": "ipython3",
   "version": "3.8.5"
  }
 },
 "nbformat": 4,
 "nbformat_minor": 4
}
