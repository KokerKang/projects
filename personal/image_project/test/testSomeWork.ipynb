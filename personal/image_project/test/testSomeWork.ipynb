{
 "cells": [
  {
   "cell_type": "code",
   "execution_count": 2,
   "metadata": {},
   "outputs": [
    {
     "name": "stdout",
     "output_type": "stream",
     "text": [
      "======[The result of reading file]======\n",
      "hello\n"
     ]
    }
   ],
   "source": [
    "\"\"\"\n",
    "    writing file\n",
    "\"\"\"\n",
    "\n",
    "# 파일 안 쓰고 싶은 내용을 변수에 넣기\n",
    "data = \"hello\"\n",
    "\n",
    "# test.txt를 w(write) 쓰기 모드로 열고, 파일 디스크립터를 fp 변수에 담고, \n",
    "with open(\"test.txt\", \"w\") as fp:\n",
    "    # data 값을 쓰기 위해, write 함수를 호출\n",
    "    fp.write(data)\n",
    "\n",
    "# reading file\n",
    "# test.txt를 r(reading) 읽기 모드로 열고, 파일 디스크립ㅂ터를 fp 변수에 담고,\n",
    "with open(\"test.txt\", \"r\") as fp:\n",
    "    print(\"======[The result of reading file]======\")\n",
    "    #파일 내용을 읽기 위해, read 함수를 호출\n",
    "    print(fp.read())\n"
   ]
  },
  {
   "cell_type": "code",
   "execution_count": 3,
   "metadata": {},
   "outputs": [
    {
     "name": "stdout",
     "output_type": "stream",
     "text": [
      "이미지 저장\n"
     ]
    }
   ],
   "source": [
    "# 라이브러리를 import\n",
    "import requests\n",
    "\n",
    "# 이미지가 있는 url 주소\n",
    "url = \"https://search1.kakaocdn.net/argon/600x0_65_wr/ImZk3b2X1w8\"\n",
    "\n",
    "# 해당 url 로 서버에게 요청\n",
    "img_response = requests.get(url)\n",
    "\n",
    "# 요청에 성공,\n",
    "if img_response.status_code == 200:\n",
    "    #print(img_response.content)\n",
    "    \n",
    "    print(\"이미지 저장\")\n",
    "    #test.jpg 파일을 wb(writing binary) 바이너리 형식을 쓰는 모드를 열고 fp변수에 저장\n",
    "    with open(\"test.jpg\", \"wb\") as fp:\n",
    "        # write 함수를 호출하여, 이미지에 해당하는 img_response.content를 저장\n",
    "        fp.write(img_response.content)"
   ]
  },
  {
   "cell_type": "code",
   "execution_count": null,
   "metadata": {},
   "outputs": [],
   "source": []
  }
 ],
 "metadata": {
  "kernelspec": {
   "display_name": "Python 3",
   "language": "python",
   "name": "python3"
  },
  "language_info": {
   "codemirror_mode": {
    "name": "ipython",
    "version": 3
   },
   "file_extension": ".py",
   "mimetype": "text/x-python",
   "name": "python",
   "nbconvert_exporter": "python",
   "pygments_lexer": "ipython3",
   "version": "3.8.5"
  }
 },
 "nbformat": 4,
 "nbformat_minor": 4
}
